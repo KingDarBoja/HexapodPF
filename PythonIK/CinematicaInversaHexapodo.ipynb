{
 "cells": [
  {
   "cell_type": "markdown",
   "metadata": {},
   "source": [
    "# Cinemática Inversa para el Hexapodo\n",
    "Este documento contiene el progreso de la Interfaz Gráfica de Usuario (GUI) construida en Python 3 para generar y visualizar los movimientos de un robot Hexapodo a partir de sus dimensiones y especificaciones del usuario.\n",
    "\n",
    "Inicialmente utilizaremos el modulo **Tkinter**, el cual es una biblioteca gráfica **Tcl/Tk** de Python para realizar nuestra GUI. Para ello, debemos conocer ciertos conceptos básicos los cuales se ilustraran con el siguiente ejemplo:\n"
   ]
  },
  {
   "cell_type": "code",
   "execution_count": 1,
   "metadata": {
    "collapsed": true
   },
   "outputs": [],
   "source": [
    "import tkinter as tk\n",
    "\n",
    "# Testing window that display the current version of Tkinter\n",
    "# tk._test()\n",
    "\n",
    "# Read the whole documentation at http://effbot.org/tkinterbook/tkinter-index.htm\n",
    "\n",
    "# To initialize Tkinter, we create a Tk root widget (an ordinary window).\n",
    "root = tk.Tk()\n",
    "# We create a label widget as child to the root window.\n",
    "theLabel = tk.Label(root, text=\"This is too easy\")\n",
    "# We call the pack method on this widget. This tells it to size itself to fit the given text, and make itself visible.\n",
    "theLabel.pack()\n",
    "# We display the window using the Tkinter event loop. The program will stay in the event loop until we close the window\n",
    "root.mainloop()"
   ]
  },
  {
   "cell_type": "markdown",
   "metadata": {},
   "source": [
    "Inicialmente, se importa el módulo Tkinter con el alias **tk** a tráves de la siguiente línea de código:\n",
    "\n",
    "```python\n",
    "import tkinter as tk\n",
    "```\n",
    "\n",
    "Toda GUI en Tkinter necesita de una ventana raíz o *root* donde visualizar los otros componentes hijos o _widgets_ para nuestra aplicación. En este ejemplo, creamos un elemento de tipo *label*, el cual puede mostrar tanto textos como iconos o alguna otra imagen. Para este caso, especificamos que es un texto y a su vez al componente madre al que pertenece, _root_.\n",
    "\n",
    "Luego llamamos el método `.pack()` en nuestro elemento para autoajustar su tamaño en función del texto y hacerlo visible. Aún así, no se visualizará nada debido hasta no ejecutar el **ciclo de eventos Tkinter**, el cual se encarga de manejar cualquier acción del usuario con la interfaz (clic, teclear, mensajes, etc)."
   ]
  },
  {
   "cell_type": "markdown",
   "metadata": {
    "collapsed": true
   },
   "source": [
    "## Definición de los marcos de referencia y modelos cinemáticos\n",
    "\n",
    "### Marco de referencia global\n",
    "El marco de referencia global para está simulación estará ubicado en una de las esquinas de la simulación (o terreno), el cual denotaremos por la letra **G** en todas nuestras notaciones. Además, los ejes de este marco de referencia global seguirán la regla de la mano derecha. \n",
    "\n",
    "### Marco de referencia para el cuerpo (_Trunk_)\n",
    "En el caso de la araña, se sitúa el origen de los ejes coordenados a la misma altura del panel inferior del robot, ubicandose en su centro geométrico. Se toma la denotación de los giros en los ejes **x - y - z** como **roll - pitch - yaw**, siendo estos relativos al marco de referencia global. En base a ello, las respectivas matrices de rotación se muestrán en las siguientes ecuaciones con sus respectivos ángulos:\n",
    "\n",
    "<img src=\"img/roll-pitch-and-yaw-angles.png\" width=300px height=300px>\n",
    "\n",
    "\\begin{align}\n",
    "Roll: R_x(\\gamma) = \n",
    "\\begin{bmatrix}\n",
    "    1 & 0 & 0 \\\\\n",
    "    0 & cos(\\gamma) & -sin(\\gamma) \\\\\n",
    "    0 & sin(\\gamma) & cos(\\gamma) \n",
    "\\end{bmatrix}\n",
    ",\\\n",
    "Pitch: R_y(\\beta) =\n",
    "\\begin{bmatrix}\n",
    "    cos(\\beta) & 0 & sin(\\beta) \\\\\n",
    "    0 & 1 & 0 \\\\\n",
    "    -sin(\\beta) & 0 & cos(\\beta)\n",
    "\\end{bmatrix}\n",
    ",\\\n",
    "Yaw: R_z(\\alpha) =\n",
    "\\begin{bmatrix}\n",
    "    cos(\\alpha) & -sin(\\alpha) & 0 \\\\\n",
    "    sin(\\alpha) & cos(\\alpha) & 0 \\\\\n",
    "    0 & 0 & 1 \n",
    "\\end{bmatrix}\n",
    "\\end{align}\n",
    "\n",
    "### Definición de los paramétros Denavit - Hartenberg para la cinemática de una pata.\n",
    "Basandonos en la convención Denavit - Hartenberg para describir la geometria de una cadena cinemática / manipulador robótico; los cuales se definen en la tabla de abajo, podemos obtener el modelo cinemático para una pata. Las notaciones para cada eslabón (o servo) están basadas en los insectos, siendo el primer servo (Une el cuerpo con la pata) denominado ***Coxa***, el segundo servo ***Femur*** y el último servo ***Tibia***.\n",
    "\n",
    "| Parametro | Definición |\n",
    "| :---: | :---: |\n",
    "| $\\theta_{\\mathrm{i}}$ | Es el ángulo comprendido entre los ejes $x_{\\mathrm{i - 1}}$ y $x_{\\mathrm{i}}$, medido en torno al eje $z_{\\mathrm{i - 1}}$, en el sentido de la regla de la mano derecha. |\n",
    "| $\\mathrm{d_i}$ | Es la desviación del eslabón, es decir, la distancia comprendida desde el eje $x_{\\mathrm{i - 1}}$ al eje $x_{\\mathrm{i}}$ a lo largo del eje $z_{\\mathrm{i - 1}}$. |\n",
    "| $\\mathrm{a_i}$\t| Es la longitud cinemática del eslabón, es decir, la distancia entre el eje $z_{\\mathrm{i - 1}}$ y el $z_{\\mathrm{i}}$ a lo largo del eje $x_{\\mathrm{i}}$ |\n",
    "| $\\alpha_{\\mathrm{i}}$ | Es el ángulo comprendido entre los ejes $z_{\\mathrm{i - 1}}$ y $z_{\\mathrm{i}}$, medido en torno al eje $x_{\\mathrm{i}}$, en sentido de la regla de la mano derecha. |\n",
    "\n",
    "La obtención de los parametros se realiza siguiendo los pasos de la metodologia en la figura siguiente, con la visualización de cada eje coordenado, rotaciones y la tabla resumiendo los valores / variables del modelo cinemático.\n",
    "\n",
    "| Eslabón | $\\theta_{\\mathrm{i}}$ | $\\mathrm{a_i}$ | $\\mathrm{d_i}$ | $\\alpha_{\\mathrm{i}}$ |\n",
    "| :---: | :---: | :---: | :---: | :---: |\n",
    "| 1 | $\\theta_1$ | $\\mathrm{L_1}$ | $\\mathrm{d_L}$ | $\\pi/2$ |\n",
    "| 2 | $\\theta_2$ | $\\mathrm{L_2}$ | 0 | 0 |\n",
    "| 3 | $\\theta_3$ | $\\mathrm{L_3}$ | 0 | 0 |"
   ]
  },
  {
   "cell_type": "code",
   "execution_count": 17,
   "metadata": {},
   "outputs": [
    {
     "data": {
      "text/latex": [
       "$$\\int e^{x} \\cos{\\left (x \\right )}\\, dx = \\frac{e^{x}}{2} \\sin{\\left (x \\right )} + \\frac{e^{x}}{2} \\cos{\\left (x \\right )}$$"
      ],
      "text/plain": [
       "⌠                 x           x       \n",
       "⎮  x             ℯ ⋅sin(x)   ℯ ⋅cos(x)\n",
       "⎮ ℯ ⋅cos(x) dx = ───────── + ─────────\n",
       "⌡                    2           2    "
      ]
     },
     "execution_count": 17,
     "metadata": {},
     "output_type": "execute_result"
    }
   ],
   "source": [
    "# Ejemplo de Sympy\n",
    "from sympy import *\n",
    "init_printing(use_latex='mathjax')\n",
    "x = symbols('x')\n",
    "a = Integral(cos(x)*exp(x), x)\n",
    "Eq(a, a.doit())"
   ]
  },
  {
   "cell_type": "code",
   "execution_count": 42,
   "metadata": {},
   "outputs": [
    {
     "data": {
      "text/latex": [
       "$$X_{t} + \\left(\\sin{\\left (\\alpha \\right )} \\sin{\\left (\\gamma \\right )} + \\sin{\\left (\\beta \\right )} \\cos{\\left (\\alpha \\right )} \\cos{\\left (\\gamma \\right )}\\right) \\left(L_{2} \\sin{\\left (\\theta_{2} \\right )} + L_{3} \\sin{\\left (\\theta_{2} \\right )} \\cos{\\left (\\theta_{3} \\right )} + L_{3} \\sin{\\left (\\theta_{3} \\right )} \\cos{\\left (\\theta_{2} \\right )} + d_{L}\\right) + \\left(- \\sin{\\left (\\alpha \\right )} \\cos{\\left (\\gamma \\right )} + \\sin{\\left (\\beta \\right )} \\sin{\\left (\\gamma \\right )} \\cos{\\left (\\alpha \\right )}\\right) \\left(\\frac{L_{1}}{2} \\sin{\\left (\\theta_{1} \\right )} + \\frac{L_{2}}{2} \\sin{\\left (\\theta_{1} \\right )} \\cos{\\left (\\theta_{2} \\right )} - \\frac{L_{3}}{2} \\sin{\\left (\\theta_{1} \\right )} \\sin{\\left (\\theta_{2} \\right )} \\sin{\\left (\\theta_{3} \\right )} + \\frac{L_{3}}{2} \\sin{\\left (\\theta_{1} \\right )} \\cos{\\left (\\theta_{2} \\right )} \\cos{\\left (\\theta_{3} \\right )} + \\frac{\\sqrt{3} r_{B}}{2} + \\frac{\\sqrt{3}}{2} \\left(L_{1} \\cos{\\left (\\theta_{1} \\right )} + L_{2} \\cos{\\left (\\theta_{1} \\right )} \\cos{\\left (\\theta_{2} \\right )} - L_{3} \\sin{\\left (\\theta_{2} \\right )} \\sin{\\left (\\theta_{3} \\right )} \\cos{\\left (\\theta_{1} \\right )} + L_{3} \\cos{\\left (\\theta_{1} \\right )} \\cos{\\left (\\theta_{2} \\right )} \\cos{\\left (\\theta_{3} \\right )}\\right)\\right) + \\left(\\frac{L_{1}}{2} \\cos{\\left (\\theta_{1} \\right )} + \\frac{L_{2}}{2} \\cos{\\left (\\theta_{1} \\right )} \\cos{\\left (\\theta_{2} \\right )} - \\frac{L_{3}}{2} \\sin{\\left (\\theta_{2} \\right )} \\sin{\\left (\\theta_{3} \\right )} \\cos{\\left (\\theta_{1} \\right )} + \\frac{L_{3}}{2} \\cos{\\left (\\theta_{1} \\right )} \\cos{\\left (\\theta_{2} \\right )} \\cos{\\left (\\theta_{3} \\right )} + \\frac{r_{B}}{2} - \\frac{\\sqrt{3}}{2} \\left(L_{1} \\sin{\\left (\\theta_{1} \\right )} + L_{2} \\sin{\\left (\\theta_{1} \\right )} \\cos{\\left (\\theta_{2} \\right )} - L_{3} \\sin{\\left (\\theta_{1} \\right )} \\sin{\\left (\\theta_{2} \\right )} \\sin{\\left (\\theta_{3} \\right )} + L_{3} \\sin{\\left (\\theta_{1} \\right )} \\cos{\\left (\\theta_{2} \\right )} \\cos{\\left (\\theta_{3} \\right )}\\right)\\right) \\cos{\\left (\\alpha \\right )} \\cos{\\left (\\beta \\right )}$$"
      ],
      "text/plain": [
       "                                                                              \n",
       "Xₜ + (sin(α)⋅sin(γ) + sin(β)⋅cos(α)⋅cos(γ))⋅(L₂⋅sin(θ₂) + L₃⋅sin(θ₂)⋅cos(θ₃) +\n",
       "                                                                              \n",
       "\n",
       "                                                                     ⎛L₁⋅sin(θ\n",
       " L₃⋅sin(θ₃)⋅cos(θ₂) + d_L) + (-sin(α)⋅cos(γ) + sin(β)⋅sin(γ)⋅cos(α))⋅⎜────────\n",
       "                                                                     ⎝    2   \n",
       "\n",
       "₁)   L₂⋅sin(θ₁)⋅cos(θ₂)   L₃⋅sin(θ₁)⋅sin(θ₂)⋅sin(θ₃)   L₃⋅sin(θ₁)⋅cos(θ₂)⋅cos(\n",
       "── + ────────────────── - ────────────────────────── + ───────────────────────\n",
       "             2                        2                            2          \n",
       "\n",
       "θ₃)   √3⋅r_B   √3⋅(L₁⋅cos(θ₁) + L₂⋅cos(θ₁)⋅cos(θ₂) - L₃⋅sin(θ₂)⋅sin(θ₃)⋅cos(θ₁\n",
       "─── + ────── + ───────────────────────────────────────────────────────────────\n",
       "        2                                                    2                \n",
       "\n",
       ") + L₃⋅cos(θ₁)⋅cos(θ₂)⋅cos(θ₃))⎞   ⎛L₁⋅cos(θ₁)   L₂⋅cos(θ₁)⋅cos(θ₂)   L₃⋅sin(θ\n",
       "───────────────────────────────⎟ + ⎜────────── + ────────────────── - ────────\n",
       "                               ⎠   ⎝    2                2                    \n",
       "\n",
       "₂)⋅sin(θ₃)⋅cos(θ₁)   L₃⋅cos(θ₁)⋅cos(θ₂)⋅cos(θ₃)   r_B   √3⋅(L₁⋅sin(θ₁) + L₂⋅si\n",
       "────────────────── + ────────────────────────── + ─── - ──────────────────────\n",
       "    2                            2                 2                          \n",
       "\n",
       "n(θ₁)⋅cos(θ₂) - L₃⋅sin(θ₁)⋅sin(θ₂)⋅sin(θ₃) + L₃⋅sin(θ₁)⋅cos(θ₂)⋅cos(θ₃))⎞     \n",
       "────────────────────────────────────────────────────────────────────────⎟⋅cos(\n",
       "                        2                                               ⎠     \n",
       "\n",
       "         \n",
       "α)⋅cos(β)\n",
       "         "
      ]
     },
     "execution_count": 42,
     "metadata": {},
     "output_type": "execute_result"
    }
   ],
   "source": [
    "from sympy import *\n",
    "init_printing(use_latex='mathjax')\n",
    "# Simbolos generales para las matrices, ángulos y variables.\n",
    "alpha, beta, gamma = symbols('alpha beta gamma')\n",
    "g_k, r_c, theta_i, alpha_i, a_i, d_i = symbols('gamma_k r_B theta_i alpha_i a_i d_i')\n",
    "# Simbolos especificos\n",
    "t_1, t_2, t_3 = symbols('theta_1 theta_2 theta_3')\n",
    "L_1, L_2, L_3, d_L = symbols('L_1 L_2 L_3 d_L')\n",
    "X_t, Y_t, Z_t = symbols('X_t Y_t Z_t')\n",
    "\n",
    "# Matrices de rotación alrededor de cada eje con sus variables\n",
    "RotMatrX = rot_axis1(gamma).T\n",
    "RotMatrY = rot_axis2(beta).T\n",
    "RotMatrZ = rot_axis3(alpha).T\n",
    "# Matriz de rotación completa (Roll -> Pitch -> Yaw) o \"balance, cabeceo, guiñada\"\n",
    "RotMatrRPY = RotMatrZ*RotMatrY*RotMatrX\n",
    "# Matriz homogénea de transformación de cuerpo a coordenadas globales.\n",
    "TransfMatrRPY = RotMatrRPY.col_insert(3, Matrix([X_t, Y_t, Z_t])).row_insert(3, Matrix([[0, 0, 0, 1]]))\n",
    "\n",
    "# Matriz general homogénea de traslación / rotación del eje central de la araña a cada pata.\n",
    "# Llamado tambien ángulo local de guiñada o \"Yaw\"\n",
    "TransfMatrBP = Matrix([[cos(g_k), -sin(g_k), 0, r_c*cos(g_k)], \n",
    "                       [sin(g_k), cos(g_k), 0, r_c*sin(g_k)], \n",
    "                       [0, 0, 1, 0], \n",
    "                       [0, 0, 0, 1]])\n",
    "# Matriz general homogénea de transformación del eslabón i al eslabón i-1. \n",
    "TransfMatrLink = Matrix([[cos(theta_i), -sin(theta_i)*cos(alpha_i), sin(theta_i)*sin(alpha_i), a_i*cos(theta_i)], \n",
    "                         [sin(theta_i), cos(theta_i)*cos(alpha_i), -cos(theta_i)*sin(alpha_i), a_i*sin(theta_i)], \n",
    "                         [0, sin(alpha_i), cos(alpha_i), d_i], \n",
    "                         [0, 0, 0, 1]])\n",
    "# Matrices de transformación para cada eslabón en una pata. \n",
    "# En orden: Matrix de eslabón 1 -> 0, 2 -> 1, 3 -> 2\n",
    "TransfMatrL1 = TransfMatrLink.subs([(theta_i, t_1), (alpha_i, pi/2), (d_i, d_L), (a_i, L_1)])\n",
    "TransfMatrL2 = TransfMatrLink.subs([(theta_i, t_2), (alpha_i, 0), (d_i, 0), (a_i, L_2)])\n",
    "TransfMatrL3 = TransfMatrLink.subs([(theta_i, t_3), (alpha_i, 0), (d_i, 0), (a_i, L_3)])\n",
    "\n",
    "# Matriz de transformación total desde elemento final de la pata hasta el cuerpo (Eslabón 0).\n",
    "TransfMatrPaw = TransfMatrL1*TransfMatrL2*TransfMatrL3\n",
    "\n",
    "# Matrices de transformación de pata al centro del cuerpo.\n",
    "# Basicamente es multiplicar la matriz de transformación total (anterior) con la de transformación desde el eje central.\n",
    "# Notación general para las patas: R - Derecha, L - Izquierda // F - Frontal, M - Media, R - Trasera.\n",
    "# En dirección contrareloj, empezando por la izquierda: 1 - LF, 2 - LM, 3 - LR, 4 - RR, 5 - RM, 6 - RF \n",
    "TransfMatrLF = TransfMatrBP.subs(g_k, 2*pi/3)*TransfMatrPaw\n",
    "TransfMatrLM = TransfMatrBP.subs(g_k, pi)*TransfMatrPaw\n",
    "TransfMatrLR = TransfMatrBP.subs(g_k, 4*pi/3)*TransfMatrPaw\n",
    "TransfMatrRR = TransfMatrBP.subs(g_k, 5*pi/3)*TransfMatrPaw\n",
    "TransfMatrRM = TransfMatrBP.subs(g_k, 2*pi)*TransfMatrPaw\n",
    "TransfMatrRF = TransfMatrBP.subs(g_k, pi/3)*TransfMatrPaw\n",
    "\n",
    "# Matrices de transformación global para cada pata para obtener las coordenadas finales de cada una.\n",
    "TransfMatrLF_G = TransfMatrRPY*TransfMatrLF*Matrix([0, 0, 0, 1])\n",
    "TransfMatrLM_G = TransfMatrRPY*TransfMatrLM*Matrix([0, 0, 0, 1])\n",
    "TransfMatrLR_G = TransfMatrRPY*TransfMatrLR*Matrix([0, 0, 0, 1])\n",
    "TransfMatrRR_G = TransfMatrRPY*TransfMatrRR*Matrix([0, 0, 0, 1])\n",
    "TransfMatrRM_G = TransfMatrRPY*TransfMatrRM*Matrix([0, 0, 0, 1])\n",
    "TransfMatrRF_G = TransfMatrRPY*TransfMatrRF*Matrix([0, 0, 0, 1])"
   ]
  },
  {
   "cell_type": "code",
   "execution_count": null,
   "metadata": {
    "collapsed": true
   },
   "outputs": [],
   "source": []
  }
 ],
 "metadata": {
  "kernelspec": {
   "display_name": "Python 3",
   "language": "python",
   "name": "python3"
  },
  "language_info": {
   "codemirror_mode": {
    "name": "ipython",
    "version": 3
   },
   "file_extension": ".py",
   "mimetype": "text/x-python",
   "name": "python",
   "nbconvert_exporter": "python",
   "pygments_lexer": "ipython3",
   "version": "3.6.3"
  }
 },
 "nbformat": 4,
 "nbformat_minor": 2
}
