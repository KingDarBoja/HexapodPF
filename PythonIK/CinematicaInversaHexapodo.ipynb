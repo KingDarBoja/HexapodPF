{
 "cells": [
  {
   "cell_type": "markdown",
   "metadata": {},
   "source": [
    "# Cinemática Inversa para el Hexapodo\n",
    "Este documento contiene el progreso de la Interfaz Gráfica de Usuario (GUI) construida en Python 3 para generar y visualizar los movimientos de un robot Hexapodo a partir de sus dimensiones y especificaciones del usuario.\n",
    "\n",
    "Inicialmente utilizaremos el modulo **Tkinter**, el cual es una biblioteca gráfica **Tcl/Tk** de Python para realizar nuestra GUI. Para ello, debemos conocer ciertos conceptos básicos los cuales se ilustraran con el siguiente ejemplo:\n"
   ]
  },
  {
   "cell_type": "code",
   "execution_count": 1,
   "metadata": {
    "collapsed": true
   },
   "outputs": [],
   "source": [
    "import tkinter as tk\n",
    "\n",
    "# Testing window that display the current version of Tkinter\n",
    "# tk._test()\n",
    "\n",
    "# Read the whole documentation at http://effbot.org/tkinterbook/tkinter-index.htm\n",
    "\n",
    "# To initialize Tkinter, we create a Tk root widget (an ordinary window).\n",
    "root = tk.Tk()\n",
    "# We create a label widget as child to the root window.\n",
    "theLabel = tk.Label(root, text=\"This is too easy\")\n",
    "# We call the pack method on this widget. This tells it to size itself to fit the given text, and make itself visible.\n",
    "theLabel.pack()\n",
    "# We display the window using the Tkinter event loop. The program will stay in the event loop until we close the window\n",
    "root.mainloop()"
   ]
  },
  {
   "cell_type": "markdown",
   "metadata": {},
   "source": [
    "Inicialmente, se importa el módulo Tkinter con el alias **tk** a tráves de la siguiente línea de código:\n",
    "\n",
    "```python\n",
    "import tkinter as tk\n",
    "```\n",
    "\n",
    "Toda GUI en Tkinter necesita de una ventana raíz o *root* donde visualizar los otros componentes hijos o _widgets_ para nuestra aplicación. En este ejemplo, creamos un elemento de tipo *label*, el cual puede mostrar tanto textos como iconos o alguna otra imagen. Para este caso, especificamos que es un texto y a su vez al componente madre al que pertenece, _root_.\n",
    "\n",
    "Luego llamamos el método `.pack()` en nuestro elemento para autoajustar su tamaño en función del texto y hacerlo visible. Aún así, no se visualizará nada debido hasta no ejecutar el **ciclo de eventos Tkinter**, el cual se encarga de manejar cualquier acción del usuario con la interfaz (clic, teclear, mensajes, etc)."
   ]
  },
  {
   "cell_type": "markdown",
   "metadata": {
    "collapsed": true
   },
   "source": [
    "## Definición de los marcos de referencia y modelos cinemáticos\n",
    "\n",
    "### Marco de referencia global\n",
    "El marco de referencia global para está simulación estará ubicado en una de las esquinas de la simulación (o terreno), el cual denotaremos por la letra **G** en todas nuestras notaciones. Además, los ejes de este marco de referencia global seguirán la regla de la mano derecha. \n",
    "\n",
    "### Marco de referencia para el cuerpo (_Trunk_)\n",
    "En el caso de la araña, se sitúa el origen de los ejes coordenados a la misma altura del panel inferior del robot, ubicandose en su centro geométrico. Se toma la denotación de los giros en los ejes **x - y - z** como **roll - pitch - yaw**, siendo estos relativos al marco de referencia global. En base a ello, las respectivas matrices de rotación se muestrán en las siguientes ecuaciones con sus respectivos ángulos:\n",
    " \n",
    "<img src=\"img/roll-pitch-and-yaw-angles.png\" width=\"300\"/>\n",
    "\n",
    "\\begin{align}\n",
    "Roll: R_x(\\gamma) = \n",
    "\\begin{bmatrix}\n",
    "    1 & 0 & 0 \\\\\n",
    "    0 & cos(\\gamma) & -sin(\\gamma) \\\\\n",
    "    0 & sin(\\gamma) & cos(\\gamma) \n",
    "\\end{bmatrix}\n",
    ",\\\n",
    "Pitch: R_y(\\beta) =\n",
    "\\begin{bmatrix}\n",
    "    cos(\\beta) & 0 & sin(\\beta) \\\\\n",
    "    0 & 1 & 0 \\\\\n",
    "    -sin(\\beta) & 0 & cos(\\beta)\n",
    "\\end{bmatrix}\n",
    ",\\\n",
    "Yaw: R_z(\\alpha) =\n",
    "\\begin{bmatrix}\n",
    "    cos(\\alpha) & -sin(\\alpha) & 0 \\\\\n",
    "    sin(\\alpha) & cos(\\alpha) & 0 \\\\\n",
    "    0 & 0 & 1 \n",
    "\\end{bmatrix}\n",
    "\\end{align}\n",
    "\n",
    "### Definición de los paramétros Denavit - Hartenberg para la cinemática de una pata.\n",
    "Basandonos en la convención Denavit - Hartenberg para describir la geometria de una cadena cinemática / manipulador robótico; los cuales se definen en la tabla de abajo, podemos obtener el modelo cinemático para una pata. Las notaciones para cada eslabón (o servo) están basadas en los insectos, siendo el primer servo (Une el cuerpo con la pata) denominado ***Coxa***, el segundo servo ***Femur*** y el último servo ***Tibia***.\n",
    "\n",
    "| Parametro | Definición |\n",
    "| :---: | :---: |\n",
    "| $\\theta_{\\mathrm{i}}$ | Es el ángulo comprendido entre los ejes $x_{\\mathrm{i - 1}}$ y $x_{\\mathrm{i}}$, medido en torno al eje $z_{\\mathrm{i - 1}}$, en el sentido de la regla de la mano derecha. |\n",
    "| $\\mathrm{d_i}$ | Es la desviación del eslabón, es decir, la distancia comprendida desde el eje $x_{\\mathrm{i - 1}}$ al eje $x_{\\mathrm{i}}$ a lo largo del eje $z_{\\mathrm{i - 1}}$. |\n",
    "| $\\mathrm{a_i}$\t| Es la longitud cinemática del eslabón, es decir, la distancia entre el eje $z_{\\mathrm{i - 1}}$ y el $z_{\\mathrm{i}}$ a lo largo del eje $x_{\\mathrm{i}}$ |\n",
    "| $\\alpha_{\\mathrm{i}}$ | Es el ángulo comprendido entre los ejes $z_{\\mathrm{i - 1}}$ y $z_{\\mathrm{i}}$, medido en torno al eje $x_{\\mathrm{i}}$, en sentido de la regla de la mano derecha. |\n",
    "\n",
    "La obtención de los parametros se realiza siguiendo los pasos de la metodologia en la figura siguiente, con la visualización de cada eje coordenado, rotaciones y la tabla resumiendo los valores / variables del modelo cinemático.\n",
    "\n",
    "| Eslabón | $\\theta_{\\mathrm{i}}$ | $\\mathrm{a_i}$ | $\\mathrm{d_i}$ | $\\alpha_{\\mathrm{i}}$ |\n",
    "| :---: | :---: | :---: | :---: | :---: |\n",
    "| 1 | $\\theta_1$ | $\\mathrm{L_1}$ | $\\mathrm{d_L}$ | $\\pi/2$ |\n",
    "| 2 | $\\theta_2$ | $\\mathrm{L_2}$ | 0 | 0 |\n",
    "| 3 | $\\theta_3$ | $\\mathrm{L_3}$ | 0 | 0 |"
   ]
  },
  {
   "cell_type": "markdown",
   "metadata": {},
   "source": [
    "#### 1. Importación de modulos / librerias de Python"
   ]
  },
  {
   "cell_type": "code",
   "execution_count": 1,
   "metadata": {
    "collapsed": true
   },
   "outputs": [],
   "source": [
    "# Importamos la librerias de Numpy y SymPy\n",
    "from sympy import *\n",
    "import numpy as np\n",
    "import matplotlib.pyplot as plt\n",
    "import matplotlib.patches as patches\n",
    "import math"
   ]
  },
  {
   "cell_type": "markdown",
   "metadata": {},
   "source": [
    "#### 2. Definición de simbolos"
   ]
  },
  {
   "cell_type": "code",
   "execution_count": 2,
   "metadata": {
    "collapsed": true
   },
   "outputs": [],
   "source": [
    "# Impresión en formato latex para las ecuaciones de la libreria SymPy.\n",
    "init_printing(use_latex='mathjax')\n",
    "\n",
    "# Simbolos generales para las matrices, ángulos y variables.\n",
    "alpha, beta, gamma = symbols('alpha beta gamma')\n",
    "g_k, r_c, theta_i, alpha_i, a_i, d_i = symbols('gamma_k r_c theta_i alpha_i a_i d_i')\n",
    "# Simbolos especificos.\n",
    "# Ángulos de los servos (variables)\n",
    "t_1, t_2, t_3 = symbols('theta_1 theta_2 theta_3')\n",
    "# Longitud de los eslabones de las patas.\n",
    "L_1, L_2, L_3, d_L = symbols('L_1 L_2 L_3 d_L')\n",
    "# Esta es la traslación desde el origen coordenadas globales hasta el centro del robot.\n",
    "X_t, Y_t, Z_t = symbols('X_t Y_t Z_t')\n",
    "# Coordenadas de origen de una pata\n",
    "x_l, y_l, z_l = symbols('x_l y_l z_l')"
   ]
  },
  {
   "cell_type": "markdown",
   "metadata": {},
   "source": [
    "#### 3. Matrices de rotación / traslación globales y locales"
   ]
  },
  {
   "cell_type": "code",
   "execution_count": 3,
   "metadata": {
    "collapsed": true
   },
   "outputs": [],
   "source": [
    "# Matrices de rotación alrededor de cada eje con sus variables\n",
    "RotMatrX = rot_axis1(gamma).T\n",
    "RotMatrY = rot_axis2(beta).T\n",
    "RotMatrZ = rot_axis3(alpha).T\n",
    "# Matriz de rotación completa (Roll -> Pitch -> Yaw) o \"balance, cabeceo, guiñada\"\n",
    "RotMatrRPY = RotMatrZ*RotMatrY*RotMatrX\n",
    "# Matriz homogénea de transformación de cuerpo a coordenadas globales (B -> G)\n",
    "TransfMatrRPY = RotMatrRPY.col_insert(3, Matrix([X_t, Y_t, Z_t])).row_insert(3, Matrix([[0, 0, 0, 1]]))\n",
    "\n",
    "# Matriz general homogénea de traslación / rotación del eje central de la araña a cada pata.\n",
    "# Llamado tambien ángulo local de guiñada o \"Yaw\"\n",
    "TransfMatrBP = Matrix([[cos(g_k), -sin(g_k), 0, r_c*cos(g_k)], \n",
    "                       [sin(g_k), cos(g_k), 0, r_c*sin(g_k)], \n",
    "                       [0, 0, 1, 0], \n",
    "                       [0, 0, 0, 1]])\n",
    "# Matriz general homogénea de transformación del eslabón i al eslabón i-1. \n",
    "TransfMatrLink = Matrix([[cos(theta_i), -sin(theta_i)*cos(alpha_i), sin(theta_i)*sin(alpha_i), a_i*cos(theta_i)], \n",
    "                         [sin(theta_i), cos(theta_i)*cos(alpha_i), -cos(theta_i)*sin(alpha_i), a_i*sin(theta_i)], \n",
    "                         [0, sin(alpha_i), cos(alpha_i), d_i], \n",
    "                         [0, 0, 0, 1]])\n",
    "# Matrices de transformación para cada eslabón en una pata. \n",
    "# En orden: Matrix de eslabón 1 -> 0, 2 -> 1, 3 -> 2\n",
    "TransfMatrL1 = TransfMatrLink.subs([(theta_i, t_1), (alpha_i, pi/2), (d_i, d_L), (a_i, L_1)])\n",
    "TransfMatrL2 = TransfMatrLink.subs([(theta_i, t_2), (alpha_i, 0), (d_i, 0), (a_i, L_2)])\n",
    "TransfMatrL3 = TransfMatrLink.subs([(theta_i, t_3), (alpha_i, 0), (d_i, 0), (a_i, L_3)])\n",
    "\n",
    "# Matriz de transformación total desde elemento final de la pata hasta el cuerpo (Eslabón 0).\n",
    "TransfMatrPaw = simplify(TransfMatrL1*TransfMatrL2*TransfMatrL3)"
   ]
  },
  {
   "cell_type": "markdown",
   "metadata": {},
   "source": [
    "#### 4. Cinemática directa"
   ]
  },
  {
   "cell_type": "code",
   "execution_count": 4,
   "metadata": {
    "collapsed": true
   },
   "outputs": [],
   "source": [
    "# Matrices de transformación de pata al centro del cuerpo.\n",
    "# Basicamente es multiplicar la matriz de transformación total (anterior) con la de transformación desde el eje central.\n",
    "# Notación general para las patas: R - Derecha, L - Izquierda // F - Frontal, M - Media, R - Trasera.\n",
    "# En dirección contrareloj, empezando por la izquierda: 1 - LF, 2 - LM, 3 - LR, 4 - RR, 5 - RM, 6 - RF \n",
    "TransfMatrLF = TransfMatrBP.subs(g_k, 2*pi/3)*TransfMatrPaw\n",
    "TransfMatrLM = TransfMatrBP.subs(g_k, pi)*TransfMatrPaw\n",
    "TransfMatrLR = TransfMatrBP.subs(g_k, 4*pi/3)*TransfMatrPaw\n",
    "TransfMatrRR = TransfMatrBP.subs(g_k, 5*pi/3)*TransfMatrPaw\n",
    "TransfMatrRM = TransfMatrBP.subs(g_k, 2*pi)*TransfMatrPaw\n",
    "TransfMatrRF = TransfMatrBP.subs(g_k, pi/3)*TransfMatrPaw\n",
    "\n",
    "# Matrices de transformación global para cada pata para obtener las coordenadas finales de cada una.\n",
    "TransfMatrLF_G = TransfMatrRPY*TransfMatrLF*Matrix([0, 0, 0, 1])\n",
    "TransfMatrLM_G = TransfMatrRPY*TransfMatrLM*Matrix([0, 0, 0, 1])\n",
    "TransfMatrLR_G = TransfMatrRPY*TransfMatrLR*Matrix([0, 0, 0, 1])\n",
    "TransfMatrRR_G = TransfMatrRPY*TransfMatrRR*Matrix([0, 0, 0, 1])\n",
    "TransfMatrRM_G = TransfMatrRPY*TransfMatrRM*Matrix([0, 0, 0, 1])\n",
    "TransfMatrRF_G = TransfMatrRPY*TransfMatrRF*Matrix([0, 0, 0, 1])"
   ]
  },
  {
   "cell_type": "markdown",
   "metadata": {},
   "source": [
    "#### 5. Cinemática Inversa global a pata"
   ]
  },
  {
   "cell_type": "code",
   "execution_count": 5,
   "metadata": {
    "collapsed": true
   },
   "outputs": [],
   "source": [
    "# Algoritmo para la Cinemática Inversa del robot\n",
    "# Transformación Inversa - Global hasta cuerpo (G -> B)\n",
    "TransfMatrRPY_IK = RotMatrRPY.T.col_insert(3, RotMatrRPY.T*Matrix([X_t, Y_t, Z_t])).row_insert(3, Matrix([[0, 0, 0, 1]]))\n",
    "# Esto es equivalente a la siguiente operación.\n",
    "# TransfMatrRPY_IK = simplify(TransfMatrRPY**-1)\n",
    "\n",
    "# Toca simplificar este pedazo, ya que utilizo mucho esta variable como tal.\n",
    "TransfMatrGBP = TransfMatrRPY_IK*TransfMatrBP\n",
    "\n",
    "# Transformación Inversa - Cuerpo hasta la pata (Eslabón 0)\n",
    "TransfMatrLF_IK = TransfMatrBP.subs(g_k, 2*pi/3)**-1\n",
    "TransfMatrLM_IK = TransfMatrBP.subs(g_k, pi)**-1\n",
    "TransfMatrLR_IK = TransfMatrBP.subs(g_k, 4*pi/3)**-1\n",
    "TransfMatrRR_IK = TransfMatrBP.subs(g_k, 5*pi/3)**-1\n",
    "TransfMatrRM_IK = TransfMatrBP.subs(g_k, 2*pi)**-1\n",
    "TransfMatrRF_IK = TransfMatrBP.subs(g_k, pi/3)**-1\n",
    "\n",
    "# Transformación Inversa - Global hasta la pata (Eslabón 0).\n",
    "# Se multiplica cada transformación por una matriz cuyas variables seran las coordenadas del elemento final por pata.\n",
    "TransfMatrLF_Coxa = simplify(TransfMatrRPY_IK*TransfMatrLF_IK*Matrix([x_l, y_l, z_l, 1]))\n",
    "TransfMatrLM_Coxa = simplify(TransfMatrRPY_IK*TransfMatrLM_IK*Matrix([x_l, y_l, z_l, 1]))\n",
    "TransfMatrLR_Coxa = simplify(TransfMatrRPY_IK*TransfMatrLR_IK*Matrix([x_l, y_l, z_l, 1]))\n",
    "TransfMatrRR_Coxa = simplify(TransfMatrRPY_IK*TransfMatrRR_IK*Matrix([x_l, y_l, z_l, 1]))\n",
    "TransfMatrRM_Coxa = simplify(TransfMatrRPY_IK*TransfMatrRM_IK*Matrix([x_l, y_l, z_l, 1]))\n",
    "TransfMatrRF_Coxa = simplify(TransfMatrRPY_IK*TransfMatrRF_IK*Matrix([x_l, y_l, z_l, 1]))"
   ]
  },
  {
   "cell_type": "markdown",
   "metadata": {},
   "source": [
    "#### 6. Cinemática inversa para cada pata de manera geométrica\n",
    "Ya con la transformación de la coordenada global final para cada pata hasta el eslabón 0 (Unión de la pata con el cuerpo), procedemos a resolver de manera geometrica los ángulos de las patas necesarios para lograr dichas coordenadas. \n",
    "\n",
    "El ángulo $\\theta_{\\mathrm{1}}$ que debe formar el servo 1 (*Coxa*) es muy fácil de sacar con solo las coordenadas $x_k$ y $y_k$ del elemento final de la pata $k$. Aún así, hay que tener cuidado en el ángulo a calcular debido a los siguientes casos:\n",
    "\n",
    "- La posición final se encuentra justo debajo de la articulación 1: Se generan múltiples soluciones debido a que la rotación de este servo no afectará la solución.\n",
    "- La posición final se encuentra cerca del centro del robot: Puede generarse inversión del eje y por ende, se debe aplicar correciones para evitar dicha situación.\n",
    "\n",
    "\\begin{align}\n",
    "\\Theta_1(k) =  \\begin{Bmatrix}\n",
    " \\Theta_1(k-1) & ,x_L = 0 \\\\ \n",
    " atan2(y_L,x_L) + 180^{\\circ} & ,x_L < 0\\\\ \n",
    " atan2(y_L,x_L) & ,otros\n",
    "\\end{Bmatrix}\n",
    "\\end{align}\n",
    "\n",
    "Siendo $\\Theta_1(k)$ el ángulo en el tiempo $k$, $x_L$ la componente en el eje x del efector final de la pata y $y_L$ su componente en el eje y.\n",
    "\n",
    "Los ángulos $\\Theta_2(k)$ y $\\Theta_3(k)$ se puede encontrar a partir de la transformaciòn de las coordenadas finales de la pata desde el cuerpo hasta el sistema de coordenadas del *Coxa*, mediante la matriz de transformaciòn inversa $T_0^1 = (T_1^0)^{-1}$. Con ello, podemos obtener geometricamente las ecuaciones de los àngulos como se muestra en la siguiente figura:\n",
    "\n",
    "<img src=\"img/IK-Leg.png\" width=\"600\"/>\n",
    "\n",
    "\\begin{align}\n",
    "\\Theta_2(k) = acos \\left ( \\frac{(L_2)^2+b^2-(L_3)^2}{2*L_2*b} \\right) + atan2\\left ( z_c(k),x_c(k) \\right )\n",
    "\\newline\n",
    "\\Theta_3(k) = 180^{\\circ} - acos\\left ( \\frac{x_c(k)^{2} + z_c(k)^{2} - \\left ( L_2\\right )^{2} - \\left ( L_3 \\right )^{2}}{-2*L_3*L_2} \\right )\n",
    "\\end{align}"
   ]
  },
  {
   "cell_type": "markdown",
   "metadata": {},
   "source": [
    "#### 7. Inicialización datos de entrada"
   ]
  },
  {
   "cell_type": "code",
   "execution_count": 6,
   "metadata": {
    "collapsed": true
   },
   "outputs": [],
   "source": [
    "# Este bloque de código realiza las computaciones de los 3 ángulos theta necesarios para la cinematica\n",
    "# de la pata en cuestión en base a las ecuaciones descritas anteriormente.\n",
    "\n",
    "# Variables geometricas del robot.\n",
    "lin_1 = 38.5; lin_2 = 56.2; lin_3 = 143.5;\n",
    "dlin = 0; r_bot = 137.0; x_init = 0; y_init = 0; z_init = 143.5\n",
    "\n",
    "# Expresión general utilizada para la substitución.\n",
    "inVal = [(alpha, 0), (beta, 0), (gamma, 0), \n",
    "         (L_1, lin_1), (L_2, lin_2), (L_3, lin_3), \n",
    "         (d_L, dlin), (r_c, r_bot), \n",
    "         (X_t, x_init), (Y_t, y_init), (Z_t, z_init)]"
   ]
  },
  {
   "cell_type": "code",
   "execution_count": 7,
   "metadata": {
    "collapsed": true
   },
   "outputs": [],
   "source": [
    "# Creación del array con las coordenadas de cada pata.\n",
    "CoordXYZ_Paw = np.array([[-116.0, 200.92, 0], \n",
    "                [-232.0, 0, 0], \n",
    "                [-116.0, -200.92, 0], \n",
    "                [116.0, -200.92, 0], \n",
    "                [232.0, 0, 0], \n",
    "                [116.0, 200.92, 0]])\n",
    "\n",
    "# Creación de lista con todas las substituciones de las coordenadas por pata.\n",
    "inVal_G = [inVal] * 6\n",
    "for index, value in enumerate(CoordXYZ_Paw) : \n",
    "    inVal_G[index] = inVal_G[index] + [(x_l, value[0]), (y_l, value[1]), (z_l, value[2])]\n",
    "\n",
    "# Impresión de los elementos de dicha lista para verificar su contenido.\n",
    "# for index, value in enumerate(inVal_G) :\n",
    "#     print(\"Valores de substitución para la pata {}: {} \".format(index+1, value))"
   ]
  },
  {
   "cell_type": "markdown",
   "metadata": {},
   "source": [
    "#### 8. Cálculo de Theta 1 _(Coxa)_"
   ]
  },
  {
   "cell_type": "code",
   "execution_count": 53,
   "metadata": {},
   "outputs": [
    {
     "name": "stdout",
     "output_type": "stream",
     "text": [
      "\u001b[1mCOORDENADAS GLOBALES X, Y, Z POR PATA\u001b[0m\n",
      "Pata N°1 - X:  -116.00   | Y:   200.92   | Z:    0.00   \n",
      "Pata N°2 - X:  -232.00   | Y:    0.00    | Z:    0.00   \n",
      "Pata N°3 - X:  -116.00   | Y:  -200.92   | Z:    0.00   \n",
      "Pata N°4 - X:   116.00   | Y:  -200.92   | Z:    0.00   \n",
      "Pata N°5 - X:   232.00   | Y:    0.00    | Z:    0.00   \n",
      "Pata N°6 - X:   116.00   | Y:   200.92   | Z:    0.00   \n",
      "\n",
      "\u001b[1mÁNGULOS THETA 1 CALCULADOS / COORDENADAS X, Y, Z RELATIVAS AL CUERPO\u001b[0m\n",
      "Pata N°1 =  0.00  | X:   95.00    | Y:   -0.00    | Z:   143.00  \n",
      "Pata N°2 =  0.00  | X:   95.00    | Y:    0.00    | Z:   143.00  \n",
      "Pata N°3 =  0.00  | X:   95.00    | Y:    0.00    | Z:   143.00  \n",
      "Pata N°4 =  0.00  | X:   95.00    | Y:   -0.00    | Z:   143.00  \n",
      "Pata N°5 =  0.00  | X:   95.00    | Y:    0.00    | Z:   143.00  \n",
      "Pata N°6 =  0.00  | X:   95.00    | Y:    0.00    | Z:   143.00  \n"
     ]
    }
   ],
   "source": [
    "# Los siguientes bloques de código nos permitiran realizar el calculo del ángulo theta_1 \n",
    "# en base a la transformación de las coordenadas finales desde el marco global hasta el eslabón 0,\n",
    "# siendo estás denotadas como coordenadas x_L, y_L, z_L con los respectivos indices de la pata.\n",
    "\n",
    "# Creamos un array utilizando la libreria NumPy para guardar las coordenadas x, y de cada pata.\n",
    "# Las columnas serán el número de la pata y las filas serán las coordenadas.\n",
    "CoordXY_Coxa = np.zeros((3,6))\n",
    "\n",
    "for i in range(CoordXY_Coxa.shape[0]) :\n",
    "    CoordXY_Coxa[i][0] = TransfMatrLF_Coxa[i].subs(inVal_G[0])\n",
    "    CoordXY_Coxa[i][1] = TransfMatrLM_Coxa[i].subs(inVal_G[1])\n",
    "    CoordXY_Coxa[i][2] = TransfMatrLR_Coxa[i].subs(inVal_G[2])\n",
    "    CoordXY_Coxa[i][3] = TransfMatrRR_Coxa[i].subs(inVal_G[3])\n",
    "    CoordXY_Coxa[i][4] = TransfMatrRM_Coxa[i].subs(inVal_G[4])\n",
    "    CoordXY_Coxa[i][5] = TransfMatrRF_Coxa[i].subs(inVal_G[5])\n",
    "\n",
    "CoordXY_Coxa = np.trunc(CoordXY_Coxa)\n",
    "    \n",
    "print(\"\\033[1m\" + \"COORDENADAS GLOBALES X, Y, Z POR PATA\" + \"\\033[0m\")\n",
    "for index, value in enumerate(CoordXYZ_Paw) :\n",
    "    print(\"Pata N°{} - X: {: ^10.2f} | Y: {: ^10.2f} | Z: {: ^10.2f}\"\n",
    "          .format(index+1, value[0], value[1], value[2]))\n",
    "\n",
    "\n",
    "print(\"\\n\\033[1m\" + \"ÁNGULOS THETA 1 CALCULADOS / COORDENADAS X, Y, Z RELATIVAS AL CUERPO\" + \"\\033[0m\")\n",
    "Theta_1 = []\n",
    "for index, value in enumerate(CoordXY_Coxa.T) :\n",
    "    Theta_1 += [math.ceil(math.atan2(value[1], value[0]) * 180 / math.pi)]\n",
    "    print(\"Pata N°{} = {: ^6.2f} | X: {: ^10.2f} | Y: {: ^10.2f} | Z: {: ^10.2f}\"\n",
    "          .format(index+1, Theta_1[index], value[0], value[1], value[2]))"
   ]
  },
  {
   "cell_type": "markdown",
   "metadata": {},
   "source": [
    "#### 9. Cálculo de Theta 2 _(Femur)_"
   ]
  },
  {
   "cell_type": "code",
   "execution_count": 9,
   "metadata": {
    "collapsed": true
   },
   "outputs": [],
   "source": [
    "# Transformación Inversa - Eslabón 0 hasta Eslabón 1.\n",
    "TransfMatrLF_Femur = (TransfMatrL1**-1)*TransfMatrLF_Coxa\n",
    "TransfMatrLM_Femur = (TransfMatrL1**-1)*TransfMatrLM_Coxa\n",
    "TransfMatrLR_Femur = (TransfMatrL1**-1)*TransfMatrLR_Coxa\n",
    "TransfMatrRR_Femur = (TransfMatrL1**-1)*TransfMatrRR_Coxa\n",
    "TransfMatrRM_Femur = (TransfMatrL1**-1)*TransfMatrRM_Coxa\n",
    "TransfMatrRF_Femur = (TransfMatrL1**-1)*TransfMatrRF_Coxa"
   ]
  },
  {
   "cell_type": "code",
   "execution_count": 54,
   "metadata": {},
   "outputs": [
    {
     "name": "stdout",
     "output_type": "stream",
     "text": [
      "\n",
      "\u001b[1mÁNGULOS THETA 2 CALCULADOS / COORDENADAS X, Y, Z RELATIVAS AL CUERPO\u001b[0m\n",
      "Pata N°1 = -0.00  | X:   56.50    | Y:   143.50   | Z:    0.00   \n",
      "Pata N°2 = -0.00  | X:   56.50    | Y:   143.50   | Z:    0.00   \n",
      "Pata N°3 = -0.00  | X:   56.50    | Y:   143.50   | Z:   -0.00   \n",
      "Pata N°4 = -0.00  | X:   56.50    | Y:   143.50   | Z:    0.00   \n",
      "Pata N°5 = -0.00  | X:   56.50    | Y:   143.50   | Z:    0.00   \n",
      "Pata N°6 = -0.00  | X:   56.50    | Y:   143.50   | Z:   -0.00   \n"
     ]
    }
   ],
   "source": [
    "CoordXZ_Femur = np.zeros((3,6))\n",
    "\n",
    "# Realizamos un ciclo para obtener los valores de las coordenadas x, z referidas al eslabón 0.\n",
    "# En este caso guardamos la coordenada y para simplificar la obtención de z.\n",
    "for j in range(CoordXZ_Femur.shape[0]) :\n",
    "    CoordXZ_Femur[j][0] = TransfMatrLF_Femur[j].subs(inVal_G[0] + [(t_1, Theta_1[0])])\n",
    "    CoordXZ_Femur[j][1] = TransfMatrLM_Femur[j].subs(inVal_G[1] + [(t_1, Theta_1[1])])\n",
    "    CoordXZ_Femur[j][2] = TransfMatrLR_Femur[j].subs(inVal_G[2] + [(t_1, Theta_1[2])])\n",
    "    CoordXZ_Femur[j][3] = TransfMatrRR_Femur[j].subs(inVal_G[3] + [(t_1, Theta_1[3])])\n",
    "    CoordXZ_Femur[j][4] = TransfMatrRM_Femur[j].subs(inVal_G[4] + [(t_1, Theta_1[4])])\n",
    "    CoordXZ_Femur[j][5] = TransfMatrRF_Femur[j].subs(inVal_G[5] + [(t_1, Theta_1[5])])\n",
    "\n",
    "CoordXZ_Femur = np.around(CoordXZ_Femur, decimals=2)\n",
    "print(\"\\n\\033[1m\" + \"ÁNGULOS THETA 2 CALCULADOS / COORDENADAS X, Y, Z RELATIVAS AL CUERPO\" + \"\\033[0m\")\n",
    "\n",
    "Theta_2 = []\n",
    "for index, value in enumerate(CoordXZ_Femur.T) :\n",
    "    b_len = math.sqrt(math.pow(value[0], 2) + math.pow(value[1], 2))\n",
    "    Theta_2 += [( math.acos( (math.pow(lin_2, 2) - math.pow(lin_3, 2) + math.pow(b_len,2)) / (2*lin_2*b_len) )\n",
    "                - math.atan2(value[1], value[0]) ) * 180 / math.pi]\n",
    "    print(\"Pata N°{} = {: ^6.2f} | X: {: ^10.2f} | Y: {: ^10.2f} | Z: {: ^10.2f}\"\n",
    "          .format(index+1, Theta_2[index], value[0], value[1], value[2]))"
   ]
  },
  {
   "cell_type": "markdown",
   "metadata": {},
   "source": [
    "#### 10. Cálculo de Theta 3 _(Tibia)_"
   ]
  },
  {
   "cell_type": "code",
   "execution_count": 12,
   "metadata": {},
   "outputs": [
    {
     "name": "stdout",
     "output_type": "stream",
     "text": [
      "\n",
      "\u001b[1mÁNGULOS THETA 2 CALCULADOS / COORDENADAS X, Y, Z RELATIVAS AL CUERPO\u001b[0m\n",
      "Pata N°1 = 89.88  | X:   56.50    | Y:   143.50   | Z:    0.00   \n",
      "Pata N°2 = 89.88  | X:   56.50    | Y:   143.50   | Z:    0.00   \n",
      "Pata N°3 = 89.88  | X:   56.50    | Y:   143.50   | Z:   -0.00   \n",
      "Pata N°4 = 89.88  | X:   56.50    | Y:   143.50   | Z:    0.00   \n",
      "Pata N°5 = 89.88  | X:   56.50    | Y:   143.50   | Z:    0.00   \n",
      "Pata N°6 = 89.88  | X:   56.50    | Y:   143.50   | Z:   -0.00   \n"
     ]
    }
   ],
   "source": [
    "print(\"\\n\\033[1m\" + \"ÁNGULOS THETA 2 CALCULADOS / COORDENADAS X, Y, Z RELATIVAS AL CUERPO\" + \"\\033[0m\")\n",
    "Theta_3 = []\n",
    "for index, value in enumerate(CoordXZ_Femur.T) :\n",
    "    b_len = math.sqrt(math.pow(value[0], 2) + math.pow(value[1], 2))\n",
    "    Theta_3 += [180 - math.acos((math.pow(lin_2, 2) + math.pow(lin_3, 2) - math.pow(b_len,2)) / (2*lin_2*lin_3)) * 180 / math.pi]\n",
    "    print(\"Pata N°{} = {: ^6.2f} | X: {: ^10.2f} | Y: {: ^10.2f} | Z: {: ^10.2f}\"\n",
    "          .format(index+1, Theta_3[index], value[0], value[1], value[2]))"
   ]
  },
  {
   "cell_type": "markdown",
   "metadata": {},
   "source": [
    "#### 11. Modelo en 3 dimensiones de nuestro robot."
   ]
  },
  {
   "cell_type": "markdown",
   "metadata": {},
   "source": [
    "##### 11.1 Librerías y utilidades personalizadas."
   ]
  },
  {
   "cell_type": "code",
   "execution_count": 55,
   "metadata": {
    "collapsed": true
   },
   "outputs": [],
   "source": [
    "'''\n",
    "========================\n",
    "Simulación 3D (Hexapodo)\n",
    "========================\n",
    "\n",
    "Demostración en 3D de la cinemática inversa del Hexapodo.\n",
    "'''\n",
    "# Importamos la libreria para hacer plot en 3D y la libreria para colores\n",
    "from mpl_toolkits.mplot3d import Axes3D\n",
    "\n",
    "# Creación de matrix para la base del hexapodo utilizando matriz de transformación pata a cuerpo.\n",
    "HexapodFrame = np.zeros((3, int(360/10)))\n",
    "for i in range(HexapodFrame.shape[1]):\n",
    "    for j in range(3) :\n",
    "        HexapodFrame[j,i] = TransfMatrGBP.subs([(g_k, np.radians(360/(HexapodFrame.shape[1] - 1) * i))] + inVal).col(-1)[j]\n",
    "\n",
    "# Caja falsa para simular relación de aspecto deseada\n",
    "max_X = CoordXYZ_Paw[:,0].max()\n",
    "min_X = CoordXYZ_Paw[:,0].min()\n",
    "max_Y = CoordXYZ_Paw[:,1].max()\n",
    "min_Y = CoordXYZ_Paw[:,1].min()\n",
    "max_Z = CoordXYZ_Paw[:,2].max()\n",
    "min_Z = CoordXYZ_Paw[:,2].min()\n",
    "\n",
    "max_range = np.array([max_X - min_X, max_Y - max_Y, max_Z - min_Z]).max() \n",
    "mid_x = (max_X + min_X) * 0.5\n",
    "mid_y = (max_Y + min_Y) * 0.5\n",
    "mid_z = (max_Z + min_Z) * 0.5\n",
    "\n",
    "# Etiquetas\n",
    "xlab = 'Coordenadas X'\n",
    "ylab = 'Coordenadas Y'\n",
    "zlab = 'Coordenadas Z'\n",
    "\n",
    "# Vista de cámara\n",
    "elev = 30\n",
    "azim = 100"
   ]
  },
  {
   "cell_type": "markdown",
   "metadata": {},
   "source": [
    "##### 10.2 Cinemática Inversa"
   ]
  },
  {
   "cell_type": "code",
   "execution_count": 57,
   "metadata": {},
   "outputs": [
    {
     "data": {
      "image/png": "[encoded data removed]",
      "text/plain": [
       "<matplotlib.figure.Figure at 0x173a4c4e320>"
      ]
     },
     "metadata": {},
     "output_type": "display_data"
    }
   ],
   "source": [
    "# Creamos la figura contenedora de nuestros planos.\n",
    "fig_0 = plt.figure(figsize=(8, 6), dpi=80, facecolor='w')\n",
    "ax_0 = fig_0.gca(projection='3d')\n",
    "\n",
    "ax_0.set_xlabel(xlab); ax_0.set_ylabel(ylab); ax_0.set_zlabel(zlab)\n",
    "\n",
    "# Agregamos nuestras coordenadas\n",
    "ax_0.scatter(CoordXYZ_Paw[:,0],CoordXYZ_Paw[:,1],CoordXYZ_Paw[:,2])\n",
    "\n",
    "# Base del hexapodo\n",
    "ax_0.plot(HexapodFrame.T[:,0], HexapodFrame.T[:,1], HexapodFrame.T[:,2], c ='r')\n",
    "# Equalizado del eje\n",
    "ax_0.axis('equal')\n",
    "\n",
    "# ax_0.set_xlim(mid_x - max_range, mid_x + max_range)\n",
    "# ax_0.set_ylim(mid_y - max_range, mid_y + max_range)\n",
    "# ax_0.set_zlim(mid_z - min_Z, mid_z + max_Z)\n",
    "\n",
    "ax_0.view_init(elev, azim)\n",
    "plt.show();"
   ]
  },
  {
   "cell_type": "markdown",
   "metadata": {},
   "source": [
    "##### 10.3 Cinemática directa"
   ]
  },
  {
   "cell_type": "code",
   "execution_count": 173,
   "metadata": {},
   "outputs": [
    {
     "name": "stdout",
     "output_type": "stream",
     "text": [
      "\n",
      "\n",
      "[[ 176.   88.  -88. -176.  -88.   88.]\n",
      " [   0.  152.  152.    0. -152. -152.]\n",
      " [ 144.  144.  144.  144.  144.  144.]]\n",
      "\n",
      "\n",
      "[[ 232.  116. -116. -232. -116.  116.]\n",
      " [   0.  201.  201.    0. -201. -201.]\n",
      " [ 143.  143.  143.  143.  143.  143.]]\n",
      "\n",
      "\n",
      "[[ 232.  116. -116. -232. -116.  116.]\n",
      " [   0.  201.  201.    0. -201. -201.]\n",
      " [ 287.  287.  287.  287.  287.  287.]]\n"
     ]
    }
   ],
   "source": [
    "inVal3 = [(alpha, 0), (beta, 0), (gamma, 0), \n",
    "          (L_1, lin_1), (L_2, lin_2), (L_3, lin_3), \n",
    "          (d_L, dlin), (r_c, r_bot), (X_t, x_init), (Y_t, y_init), (Z_t, z_init)]\n",
    "\n",
    "# Coordenadas iniciales: centro\n",
    "CoordStart_c = [x_init, y_init, z_init]\n",
    "# Coordenadas finales: centro\n",
    "CoordEnd_c = np.zeros((3,6))\n",
    "# Coordenadas finales: coxa\n",
    "CoordEnd_1 = np.zeros((3,6))\n",
    "# Coordenadas finales: femur\n",
    "CoordEnd_2 = np.zeros((3,6))\n",
    "# Coordenadas finales: ribia\n",
    "CoordEnd_3 = np.zeros((3,6))\n",
    "\n",
    "for i in range(3) :\n",
    "    for j in range(6) :\n",
    "        TransfTemp = (TransfMatrRPY*TransfMatrBP).subs([(g_k, j*pi/3)] + inVal3)\n",
    "        SubAngles = [(t_1, Theta_1[j] * math.pi / 180), (t_2, Theta_2[j] * math.pi / 180), (t_3, Theta_3[j] * math.pi / 180)]\n",
    "        CoordEnd_c[i][j] = (TransfTemp*Matrix([0, 0, 0, 1]))[i]\n",
    "        CoordEnd_1[i][j] = (TransfTemp*TransfMatrL1*Matrix([0, 0, 0, 1])).subs(inVal3 + SubAngles)[i]\n",
    "        CoordEnd_2[i][j] = (TransfTemp*TransfMatrL1*TransfMatrL2*Matrix([0, 0, 0, 1])).subs(inVal3 + SubAngles)[i]\n",
    "        CoordEnd_3[i][j] = (TransfTemp*TransfMatrL1*TransfMatrL2*TransfMatrL3*Matrix([0, 0, 0, 1])).subs(inVal3 + SubAngles)[i]\n",
    "        \n",
    "print(\"\\n\")\n",
    "print(np.round(CoordEnd_1))\n",
    "print(\"\\n\")\n",
    "print(np.round(CoordEnd_2))\n",
    "print(\"\\n\")\n",
    "print(np.round(CoordEnd_3))"
   ]
  },
  {
   "cell_type": "code",
   "execution_count": 171,
   "metadata": {},
   "outputs": [
    {
     "data": {
      "image/png": "[encoded data removed]",
      "text/plain": [
       "<matplotlib.figure.Figure at 0x173a559da20>"
      ]
     },
     "metadata": {},
     "output_type": "display_data"
    }
   ],
   "source": [
    "fig = plt.figure()\n",
    "ax = fig.add_subplot(111, projection='3d')\n",
    "\n",
    "for i in range(6):\n",
    "    ax.plot([CoordEnd_c[0,i], CoordStart_c[0]], \n",
    "            [CoordEnd_c[1,i], CoordStart_c[1]], \n",
    "            zs=[CoordEnd_c[2,i], CoordStart_c[2]], c='k')\n",
    "    ax.plot([CoordEnd_c[0,i], CoordEnd_1[0,i]], \n",
    "            [CoordEnd_c[1,i], CoordEnd_1[1,i]], \n",
    "            zs=[CoordEnd_c[2,i], CoordEnd_1[2,i]], c='r')\n",
    "    ax.plot([CoordEnd_1[0,i], CoordEnd_2[0,i]], \n",
    "            [CoordEnd_1[1,i], CoordEnd_2[1,i]], \n",
    "            zs=[CoordEnd_1[2,i], CoordEnd_2[2,i]], c='b')\n",
    "    ax.plot([CoordEnd_2[0,i], CoordEnd_3[0,i]], \n",
    "            [CoordEnd_2[1,i], CoordEnd_3[1,i]], \n",
    "            zs=[CoordEnd_2[2,i], CoordEnd_3[2,i]], c='g')\n",
    "    \n",
    "\n",
    "# Agregamos una linea extra para diferenciar cual es el frente\n",
    "CoordFront = (TransfMatrRPY*TransfMatrBP).subs([(g_k, pi/2)] + inVal3)*Matrix([0, 0, 0, 1])\n",
    "ax.plot([CoordFront[0], CoordStart_c[0]], [CoordFront[1], CoordStart_c[1]], zs=[CoordFront[2], CoordStart_c[2]], \n",
    "        c='k')\n",
    "ax.plot([CoordFront[0]], [CoordFront[1]], zs=[CoordFront[2]], \n",
    "        c='k', markeredgecolor='k', marker='o')\n",
    "\n",
    "plt.show()"
   ]
  }
 ],
 "metadata": {
  "kernelspec": {
   "display_name": "Python 3",
   "language": "python",
   "name": "python3"
  },
  "language_info": {
   "codemirror_mode": {
    "name": "ipython",
    "version": 3
   },
   "file_extension": ".py",
   "mimetype": "text/x-python",
   "name": "python",
   "nbconvert_exporter": "python",
   "pygments_lexer": "ipython3",
   "version": "3.6.3"
  }
 },
 "nbformat": 4,
 "nbformat_minor": 2
}
